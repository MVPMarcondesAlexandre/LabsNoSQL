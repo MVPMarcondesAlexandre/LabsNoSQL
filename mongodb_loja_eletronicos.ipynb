{
 "cells": [
  {
   "cell_type": "markdown",
   "id": "69791474",
   "metadata": {},
   "source": [
    "# Atividade Prática — Banco de Dados MongoDB (Loja Web de Produtos Eletrônicos)"
   ]
  },
  {
   "cell_type": "markdown",
   "id": "116d0300",
   "metadata": {},
   "source": []
  },
  {
   "cell_type": "markdown",
   "id": "aab8866d",
   "metadata": {},
   "source": [
    "## Cenário"
   ]
  },
  {
   "cell_type": "markdown",
   "id": "5ac0ecac",
   "metadata": {},
   "source": [
    "Imagine que você está criando o banco de dados para uma **Loja Web de Produtos Eletrônicos**. Essa loja vende notebooks, smartphones, acessórios e outros equipamentos. O banco de dados será usado para armazenar informações sobre produtos, clientes, pedidos, fornecedores e avaliações."
   ]
  },
  {
   "cell_type": "markdown",
   "id": "74e7dc6d",
   "metadata": {},
   "source": []
  },
  {
   "cell_type": "markdown",
   "id": "1cebecb8",
   "metadata": {},
   "source": [
    "Você deverá utilizar o **MongoDB** no **VS Code**, criando e manipulando os dados diretamente pelo **MongoDB Shell** ou pela **MongoDB for VS Code Extension**."
   ]
  },
  {
   "cell_type": "markdown",
   "id": "8d2fdd6c",
   "metadata": {},
   "source": []
  },
  {
   "cell_type": "markdown",
   "id": "81b83961",
   "metadata": {},
   "source": [
    "---"
   ]
  },
  {
   "cell_type": "markdown",
   "id": "487c85d1",
   "metadata": {},
   "source": []
  },
  {
   "cell_type": "markdown",
   "id": "e56f2412",
   "metadata": {},
   "source": [
    "## 1. Criando o Banco de Dados no VS Code"
   ]
  },
  {
   "cell_type": "markdown",
   "id": "09c3c4ad",
   "metadata": {},
   "source": [
    "1. Abra o **VS Code**."
   ]
  },
  {
   "cell_type": "markdown",
   "id": "c6ed8ed4",
   "metadata": {},
   "source": [
    "2. Instale a extensão **MongoDB for VS Code** (na aba de extensões, pesquise por *MongoDB*)."
   ]
  },
  {
   "cell_type": "markdown",
   "id": "b19224d5",
   "metadata": {},
   "source": [
    "3. Clique no ícone do **MongoDB** no painel lateral esquerdo."
   ]
  },
  {
   "cell_type": "markdown",
   "id": "016aa004",
   "metadata": {},
   "source": [
    "4. Conecte-se ao servidor local ou ao Atlas (dependendo da instalação que você tiver)."
   ]
  },
  {
   "cell_type": "markdown",
   "id": "05be7045",
   "metadata": {},
   "source": [
    "5. No terminal integrado do VS Code, execute:"
   ]
  },
  {
   "cell_type": "code",
   "execution_count": null,
   "id": "7a5086d1",
   "metadata": {},
   "outputs": [],
   "source": [
    "use lojaEletronicos\\nIsso cria (ou seleciona) o banco de dados chamado `lojaEletronicos`.\\n"
   ]
  },
  {
   "cell_type": "markdown",
   "id": "72b21026",
   "metadata": {},
   "source": []
  },
  {
   "cell_type": "markdown",
   "id": "493a32aa",
   "metadata": {},
   "source": [
    "---"
   ]
  },
  {
   "cell_type": "markdown",
   "id": "b1183dfd",
   "metadata": {},
   "source": []
  },
  {
   "cell_type": "markdown",
   "id": "09983535",
   "metadata": {},
   "source": [
    "## 2. Criar as Coleções e Inserir Documentos"
   ]
  },
  {
   "cell_type": "markdown",
   "id": "88574b1a",
   "metadata": {},
   "source": []
  },
  {
   "cell_type": "markdown",
   "id": "73ffe6fe",
   "metadata": {},
   "source": [
    "### 2.1 Produtos"
   ]
  },
  {
   "cell_type": "code",
   "execution_count": null,
   "id": "65cb0205",
   "metadata": {},
   "outputs": [],
   "source": [
    "db.produtos.insertMany([\\n  { nome: \"Notebook Dell Inspiron\", preco: 3500, estoque: 12, categoria: \"Notebooks\" },\\n  { nome: \"Smartphone Samsung Galaxy S23\", preco: 4200, estoque: 8, categoria: \"Smartphones\" },\\n  { nome: \"Mouse Logitech MX Master 3\", preco: 450, estoque: 20, categoria: \"Acessórios\" },\\n  { nome: \"Teclado Mecânico Redragon\", preco: 300, estoque: 15, categoria: \"Acessórios\" },\\n  { nome: \"Monitor LG 27'' 4K\", preco: 2200, estoque: 5, categoria: \"Monitores\" },\\n  { nome: \"Headset HyperX Cloud II\", preco: 600, estoque: 10, categoria: \"Acessórios\" },\\n  { nome: \"HD Externo Seagate 2TB\", preco: 500, estoque: 18, categoria: \"Armazenamento\" },\\n  { nome: \"SSD Kingston 1TB\", preco: 700, estoque: 14, categoria: \"Armazenamento\" },\\n  { nome: \"Smartwatch Apple Watch SE\", preco: 2500, estoque: 7, categoria: \"Wearables\" },\\n  { nome: \"Câmera Logitech C920\", preco: 400, estoque: 9, categoria: \"Acessórios\" }\\n])\\n"
   ]
  },
  {
   "cell_type": "markdown",
   "id": "9420c6fc",
   "metadata": {},
   "source": []
  },
  {
   "cell_type": "markdown",
   "id": "96dee514",
   "metadata": {},
   "source": [
    "### 2.2 Clientes"
   ]
  },
  {
   "cell_type": "code",
   "execution_count": null,
   "id": "820a4ec7",
   "metadata": {},
   "outputs": [],
   "source": [
    "db.clientes.insertMany([\\n  { nome: \"João Silva\", email: \"joao@email.com\", cidade: \"Fortaleza\", idade: 30 },\\n  { nome: \"Maria Oliveira\", email: \"maria@email.com\", cidade: \"São Paulo\", idade: 27 },\\n  { nome: \"Carlos Souza\", email: \"carlos@email.com\", cidade: \"Rio de Janeiro\", idade: 35 },\\n  { nome: \"Ana Lima\", email: \"ana@email.com\", cidade: \"Belo Horizonte\", idade: 40 },\\n  { nome: \"Pedro Santos\", email: \"pedro@email.com\", cidade: \"Fortaleza\", idade: 22 },\\n  { nome: \"Fernanda Costa\", email: \"fernanda@email.com\", cidade: \"Recife\", idade: 29 },\\n  { nome: \"Rafael Gomes\", email: \"rafael@email.com\", cidade: \"Salvador\", idade: 33 },\\n  { nome: \"Juliana Rocha\", email: \"juliana@email.com\", cidade: \"Curitiba\", idade: 26 },\\n  { nome: \"Bruno Almeida\", email: \"bruno@email.com\", cidade: \"Porto Alegre\", idade: 38 },\\n  { nome: \"Carla Nunes\", email: \"carla@email.com\", cidade: \"Manaus\", idade: 31 }\\n])\\n"
   ]
  },
  {
   "cell_type": "markdown",
   "id": "4e57a79a",
   "metadata": {},
   "source": []
  },
  {
   "cell_type": "markdown",
   "id": "bae2bc81",
   "metadata": {},
   "source": [
    "### 2.3 Pedidos"
   ]
  },
  {
   "cell_type": "code",
   "execution_count": null,
   "id": "e44b88a1",
   "metadata": {},
   "outputs": [],
   "source": [
    "db.pedidos.insertMany([\\n  { clienteId: 1, produtos: [\"Notebook Dell Inspiron\", \"Mouse Logitech MX Master 3\"], total: 3950, status: \"Enviado\" },\\n  { clienteId: 2, produtos: [\"Smartphone Samsung Galaxy S23\"], total: 4200, status: \"Processando\" },\\n  { clienteId: 3, produtos: [\"Monitor LG 27'' 4K\"], total: 2200, status: \"Entregue\" },\\n  { clienteId: 4, produtos: [\"Teclado Mecânico Redragon\", \"Headset HyperX Cloud II\"], total: 900, status: \"Cancelado\" },\\n  { clienteId: 5, produtos: [\"SSD Kingston 1TB\"], total: 700, status: \"Enviado\" },\\n  { clienteId: 6, produtos: [\"Smartwatch Apple Watch SE\"], total: 2500, status: \"Processando\" },\\n  { clienteId: 7, produtos: [\"HD Externo Seagate 2TB\", \"Câmera Logitech C920\"], total: 900, status: \"Entregue\" },\\n  { clienteId: 8, produtos: [\"Notebook Dell Inspiron\"], total: 3500, status: \"Enviado\" },\\n  { clienteId: 9, produtos: [\"Headset HyperX Cloud II\"], total: 600, status: \"Processando\" },\\n  { clienteId: 10, produtos: [\"Teclado Mecânico Redragon\"], total: 300, status: \"Entregue\" }\\n])\\n"
   ]
  },
  {
   "cell_type": "markdown",
   "id": "bf1d5140",
   "metadata": {},
   "source": []
  },
  {
   "cell_type": "markdown",
   "id": "9a969058",
   "metadata": {},
   "source": [
    "### 2.4 Fornecedores"
   ]
  },
  {
   "cell_type": "code",
   "execution_count": null,
   "id": "6a6ff473",
   "metadata": {},
   "outputs": [],
   "source": [
    "db.fornecedores.insertMany([\\n  { nome: \"Dell Brasil\", contato: \"contato@dell.com\", cidade: \"São Paulo\" },\\n  { nome: \"Samsung Brasil\", contato: \"contato@samsung.com\", cidade: \"Campinas\" },\\n  { nome: \"Logitech\", contato: \"contato@logitech.com\", cidade: \"Joinville\" },\\n  { nome: \"Redragon\", contato: \"contato@redragon.com\", cidade: \"São Paulo\" },\\n  { nome: \"LG\", contato: \"contato@lg.com\", cidade: \"Taubaté\" },\\n  { nome: \"HyperX\", contato: \"contato@hyperx.com\", cidade: \"Rio de Janeiro\" },\\n  { nome: \"Seagate\", contato: \"contato@seagate.com\", cidade: \"Fortaleza\" },\\n  { nome: \"Kingston\", contato: \"contato@kingston.com\", cidade: \"Manaus\" },\\n  { nome: \"Apple Brasil\", contato: \"contato@apple.com\", cidade: \"São Paulo\" },\\n  { nome: \"Microsoft\", contato: \"contato@microsoft.com\", cidade: \"Brasília\" }\\n])\\n"
   ]
  },
  {
   "cell_type": "markdown",
   "id": "71f821a6",
   "metadata": {},
   "source": []
  },
  {
   "cell_type": "markdown",
   "id": "07b84e0e",
   "metadata": {},
   "source": [
    "### 2.5 Avaliações"
   ]
  },
  {
   "cell_type": "code",
   "execution_count": null,
   "id": "0377c1c3",
   "metadata": {},
   "outputs": [],
   "source": [
    "db.avaliacoes.insertMany([\\n  { produtoId: 1, clienteId: 1, nota: 5, comentario: \"Excelente notebook, muito rápido.\" },\\n  { produtoId: 2, clienteId: 2, nota: 4, comentario: \"Ótimo smartphone, mas caro.\" },\\n  { produtoId: 3, clienteId: 3, nota: 5, comentario: \"Mouse muito confortável.\" },\\n  { produtoId: 4, clienteId: 4, nota: 4, comentario: \"Teclado muito bom, mas barulhento.\" },\\n  { produtoId: 5, clienteId: 5, nota: 5, comentario: \"Monitor excelente, cores vivas.\" },\\n  { produtoId: 6, clienteId: 6, nota: 3, comentario: \"Bom headset, mas poderia ser mais barato.\" },\\n  { produtoId: 7, clienteId: 7, nota: 4, comentario: \"Bom HD externo, rápido e confiável.\" },\\n  { produtoId: 8, clienteId: 8, nota: 5, comentario: \"SSD muito rápido.\" },\\n  { produtoId: 9, clienteId: 9, nota: 5, comentario: \"Smartwatch com muitas funções úteis.\" },\\n  { produtoId: 10, clienteId: 10, nota: 4, comentario: \"Câmera boa para videochamadas.\" }\\n])\\n"
   ]
  },
  {
   "cell_type": "markdown",
   "id": "998b3a81",
   "metadata": {},
   "source": []
  },
  {
   "cell_type": "markdown",
   "id": "af165ea0",
   "metadata": {},
   "source": [
    "---"
   ]
  },
  {
   "cell_type": "markdown",
   "id": "3f334882",
   "metadata": {},
   "source": []
  },
  {
   "cell_type": "markdown",
   "id": "8d1cfa37",
   "metadata": {},
   "source": [
    "## 3. Consultas, Atualizações e Deleções"
   ]
  },
  {
   "cell_type": "markdown",
   "id": "c222ba17",
   "metadata": {},
   "source": [
    "*(mantidos conforme documento anterior)*"
   ]
  }
 ],
 "metadata": {},
 "nbformat": 4,
 "nbformat_minor": 5
}
